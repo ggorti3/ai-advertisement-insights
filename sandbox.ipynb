{
 "cells": [
  {
   "cell_type": "code",
   "execution_count": null,
   "metadata": {},
   "outputs": [],
   "source": [
    "import matplotlib.pyplot as plt\n",
    "from matplotlib.patches import Ellipse\n",
    "import numpy as np\n",
    "import pandas as pd\n",
    "from wordcloud import WordCloud"
   ]
  },
  {
   "cell_type": "markdown",
   "metadata": {},
   "source": [
    "## Analysis\n",
    "\n",
    "apply clustering or QDA on continuous, image features that may be reasonably modeled by gaussians. apply logistic regression on categorical features to discover important words."
   ]
  },
  {
   "cell_type": "code",
   "execution_count": null,
   "metadata": {},
   "outputs": [],
   "source": [
    "features_df = pd.read_csv(\"features.csv\")\n",
    "companies = pd.unique(features_df[\"label\"])"
   ]
  },
  {
   "cell_type": "markdown",
   "metadata": {},
   "source": [
    "### Image Feature Visualization"
   ]
  },
  {
   "cell_type": "code",
   "execution_count": null,
   "metadata": {},
   "outputs": [],
   "source": [
    "fig, ax = plt.subplots(1)\n",
    "for c in companies:\n",
    "    #x = features_df.loc[(features_df[\"label\"] == c) & (features_df[\"face_detected\"] == 1), \"edge_detection_mean\"]\n",
    "    #y = features_df.loc[(features_df[\"label\"] == c) & (features_df[\"face_detected\"] == 1), \"clusters_var\"]\n",
    "    x = features_df.loc[(features_df[\"label\"] == c), \"edge_detection_mean\"]\n",
    "    y = features_df.loc[(features_df[\"label\"] == c), \"clusters_var\"]\n",
    "    ax.scatter(x, y)\n",
    "ax.legend(companies)\n",
    "ax.set_xlabel(\"edge detection mean\")\n",
    "ax.set_ylabel(\"color clusters var\")"
   ]
  },
  {
   "cell_type": "code",
   "execution_count": null,
   "metadata": {},
   "outputs": [],
   "source": [
    "\n",
    "from matplotlib import transforms\n",
    "\n",
    "def confidence_ellipse(x, y, ax, n_std=3.0, facecolor='none', **kwargs):\n",
    "    if x.size != y.size:\n",
    "        raise ValueError(\"x and y must be the same size\")\n",
    "\n",
    "    cov = np.cov(x, y)\n",
    "    pearson = cov[0, 1]/np.sqrt(cov[0, 0] * cov[1, 1])\n",
    "    # Using a special case to obtain the eigenvalues of this\n",
    "    # two-dimensionl dataset.\n",
    "    ell_radius_x = np.sqrt(1 + pearson)\n",
    "    ell_radius_y = np.sqrt(1 - pearson)\n",
    "    ellipse = Ellipse((0, 0),\n",
    "        width=ell_radius_x * 2,\n",
    "        height=ell_radius_y * 2,\n",
    "        facecolor=facecolor,\n",
    "        **kwargs)\n",
    "\n",
    "    # Calculating the stdandard deviation of x from\n",
    "    # the squareroot of the variance and multiplying\n",
    "    # with the given number of standard deviations.\n",
    "    scale_x = np.sqrt(cov[0, 0]) * n_std\n",
    "    mean_x = np.mean(x)\n",
    "\n",
    "    # calculating the stdandard deviation of y ...\n",
    "    scale_y = np.sqrt(cov[1, 1]) * n_std\n",
    "    mean_y = np.mean(y)\n",
    "\n",
    "    transf = transforms.Affine2D() \\\n",
    "        .rotate_deg(45) \\\n",
    "        .scale(scale_x, scale_y) \\\n",
    "        .translate(mean_x, mean_y)\n",
    "\n",
    "    ellipse.set_transform(transf + ax.transData)\n",
    "    return ax.add_patch(ellipse)\n",
    "\n",
    "def plot_image_features(features_df, title, companies):\n",
    "    fig, (ax1, ax2) = plt.subplots(1, 2, figsize=(20, 10))\n",
    "    lines = []\n",
    "    for c in companies:\n",
    "        x = features_df.loc[(features_df[\"label\"] == c), \"edge_detection_mean\"]\n",
    "        y = features_df.loc[(features_df[\"label\"] == c), \"clusters_var\"]\n",
    "\n",
    "        ax1.scatter(x, y)\n",
    "\n",
    "        l = ax2.scatter(x.mean(), y.mean())\n",
    "        color = l.get_facecolor()\n",
    "        lines.append(l)\n",
    "        confidence_ellipse(x, y, ax2, n_std=1, edgecolor=color)\n",
    "\n",
    "    ax1.legend(companies)\n",
    "    ax1.set_xlabel(\"edge detection score\")\n",
    "    ax1.set_ylabel(\"color clusters variance\")\n",
    "\n",
    "    ax2.legend(lines, companies)\n",
    "    ax2.set_xlabel(\"edge detection score\")\n",
    "    ax2.set_xlim(ax1.get_xlim())\n",
    "    ax2.set_ylim(ax1.get_ylim())\n",
    "\n",
    "    fig.suptitle(title)\n",
    "\n",
    "\n",
    "plot_image_features(features_df, \"Ad Image Features\", companies)\n"
   ]
  },
  {
   "cell_type": "markdown",
   "metadata": {},
   "source": [
    "### Sorted conditional company prob given word"
   ]
  },
  {
   "cell_type": "code",
   "execution_count": null,
   "metadata": {},
   "outputs": [],
   "source": [
    "bow_df = features_df.iloc[:, 2:-4]\n",
    "word_counts_df = bow_df.sum(axis=0)\n",
    "# filter out words that appear fewer than 5 times\n",
    "bow_df = bow_df.loc[:, word_counts_df >= 5]\n",
    "\n",
    "# calculate posteriors assuming uniform prior\n",
    "bow_df = pd.concat([features_df[\"label\"], bow_df], axis=1)\n",
    "counts_df = bow_df.groupby([\"label\"]).sum()\n",
    "likelihoods_df = counts_df.divide(counts_df.sum(axis=1), axis=0)\n",
    "posteriors_df = likelihoods_df.divide(likelihoods_df.sum(axis=0))\n",
    "posteriors_df\n",
    "\n",
    "# c_likelihoods = []\n",
    "# for i, c in enumerate(companies):\n",
    "#     c_counts = bow_df.loc[features_df[\"label\"] == c, ].sum(axis=0)\n",
    "#     c_likelihood = c_counts / c_counts.sum()\n",
    "#     c_likelihoods.append(c_likelihood)\n",
    "\n",
    "#     # c_word_freqs = {c_probs_df.index[i]:c_probs_df[i] for i in range(c_probs_df.shape[0])}\n",
    "#     # wc = WordCloud(background_color=\"white\", max_font_size=40)\n",
    "#     # wc.generate_from_frequencies(c_word_freqs)\n",
    "\n",
    "#     # plt.imshow(wc, interpolation=\"bilinear\")\n",
    "#     # plt.axis(\"off\")\n",
    "#     # plt.show()\n",
    "\n",
    "#     # print(c_probs_df)\n",
    "# dists = pd.DataFrame(c_likelihoods, columns=c_likelihoods[0].index)\n",
    "# posterior = dists / dists.sum(axis=0)\n",
    "# posterior.index = companies\n",
    "# posterior"
   ]
  },
  {
   "cell_type": "code",
   "execution_count": null,
   "metadata": {},
   "outputs": [],
   "source": [
    "posterior_threshold = 0.4\n",
    "\n",
    "# word clouds of highest posterior words for each company\n",
    "for i, c in enumerate(posteriors_df.index):\n",
    "    c_posteriors = posteriors_df.loc[c]\n",
    "    c_posteriors = c_posteriors[c_posteriors > posterior_threshold].sort_values(ascending=False)\n",
    "    c_word_weights = {c_posteriors.index[i]:c_posteriors[i] for i in range(c_posteriors.shape[0])}\n",
    "\n",
    "    wc = WordCloud(width=1000, height=1000, background_color=\"white\", max_font_size=60)\n",
    "    wc.generate_from_frequencies(c_word_weights)\n",
    "    plt.imshow(wc, interpolation=\"bilinear\")\n",
    "    plt.axis(\"off\")\n",
    "    plt.title(c)\n",
    "    plt.show()"
   ]
  },
  {
   "cell_type": "code",
   "execution_count": null,
   "metadata": {},
   "outputs": [],
   "source": [
    "# calculate entropies\n",
    "posteriors = posteriors_df.to_numpy()\n",
    "log_posteriors = np.where(\n",
    "    posteriors > 0,\n",
    "    np.log(posteriors),\n",
    "    0\n",
    ")\n",
    "entropy = (-posteriors * log_posteriors).sum(axis=0)\n",
    "entropy = pd.Series(entropy)\n",
    "entropy.index = posteriors_df.columns\n",
    "entropy = entropy.sort_values(ascending=False)\n",
    "\n",
    "# display high-entropy words\n",
    "num_words = 50\n",
    "entropy = entropy[:num_words] / entropy[0]\n",
    "\n",
    "weights = {entropy.index[i]:entropy[i] for i in range(entropy.shape[0])}\n",
    "\n",
    "wc = WordCloud(width=1000, height=1000, background_color=\"white\", max_font_size=80)\n",
    "wc.generate_from_frequencies(weights)\n",
    "plt.imshow(wc, interpolation=\"bilinear\")\n",
    "plt.axis(\"off\")\n",
    "plt.title(\"High Entropy Words\")\n",
    "plt.show()"
   ]
  },
  {
   "cell_type": "code",
   "execution_count": null,
   "metadata": {},
   "outputs": [],
   "source": []
  }
 ],
 "metadata": {
  "kernelspec": {
   "display_name": ".venv",
   "language": "python",
   "name": "python3"
  },
  "language_info": {
   "codemirror_mode": {
    "name": "ipython",
    "version": 3
   },
   "file_extension": ".py",
   "mimetype": "text/x-python",
   "name": "python",
   "nbconvert_exporter": "python",
   "pygments_lexer": "ipython3",
   "version": "3.8.9"
  }
 },
 "nbformat": 4,
 "nbformat_minor": 2
}
